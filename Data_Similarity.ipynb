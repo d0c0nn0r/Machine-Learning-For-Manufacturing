{
  "nbformat": 4,
  "nbformat_minor": 0,
  "metadata": {
    "colab": {
      "provenance": [],
      "collapsed_sections": [],
      "history_visible": true
    },
    "kernelspec": {
      "name": "python3",
      "display_name": "Python 3"
    },
    "language_info": {
      "name": "python"
    }
  },
  "cells": [
    {
      "cell_type": "code",
      "source": [
        "! pip install -q stumpy"
      ],
      "metadata": {
        "id": "px7lwBfmthJZ",
        "colab": {
          "base_uri": "https://localhost:8080/"
        },
        "outputId": "f518f5a2-2e78-4b3e-bee1-a59ccdd8cfff"
      },
      "execution_count": null,
      "outputs": [
        {
          "output_type": "stream",
          "name": "stdout",
          "text": [
            "\u001b[?25l\r\u001b[K     |██▍                             | 10 kB 19.5 MB/s eta 0:00:01\r\u001b[K     |████▉                           | 20 kB 26.7 MB/s eta 0:00:01\r\u001b[K     |███████▏                        | 30 kB 34.7 MB/s eta 0:00:01\r\u001b[K     |█████████▋                      | 40 kB 23.3 MB/s eta 0:00:01\r\u001b[K     |████████████                    | 51 kB 24.4 MB/s eta 0:00:01\r\u001b[K     |██████████████▍                 | 61 kB 27.8 MB/s eta 0:00:01\r\u001b[K     |████████████████▉               | 71 kB 27.1 MB/s eta 0:00:01\r\u001b[K     |███████████████████▎            | 81 kB 28.0 MB/s eta 0:00:01\r\u001b[K     |█████████████████████▋          | 92 kB 29.6 MB/s eta 0:00:01\r\u001b[K     |████████████████████████        | 102 kB 31.4 MB/s eta 0:00:01\r\u001b[K     |██████████████████████████▌     | 112 kB 31.4 MB/s eta 0:00:01\r\u001b[K     |████████████████████████████▉   | 122 kB 31.4 MB/s eta 0:00:01\r\u001b[K     |███████████████████████████████▎| 133 kB 31.4 MB/s eta 0:00:01\r\u001b[K     |████████████████████████████████| 136 kB 31.4 MB/s \n",
            "\u001b[?25h"
          ]
        }
      ]
    },
    {
      "cell_type": "code",
      "execution_count": null,
      "metadata": {
        "colab": {
          "base_uri": "https://localhost:8080/"
        },
        "id": "Y_pHP-XCjgPd",
        "outputId": "61d75ede-43fa-48e7-fbb4-32d05e77dba9"
      },
      "outputs": [
        {
          "output_type": "stream",
          "name": "stdout",
          "text": [
            "fatal: destination path 'Machine-Learning-For-Manufacturing' already exists and is not an empty directory.\n",
            "chmod: cannot access '/content/Machine-Learning-For-Manufacturing/data/*.*': No such file or directory\n"
          ]
        }
      ],
      "source": [
        "from IPython.display import Image,display\n",
        "from ipywidgets import interact, interactive, fixed, interact_manual\n",
        "import ipywidgets as widgets\n",
        "from time import sleep\n",
        "from os.path import exists\n",
        "from datetime import datetime\n",
        "\n",
        "if not exists('/content/Machine-Learning-For-Manufacturing/Data/o.csv') or not exists('/content/Machine-Learning-For-Manufacturing/Data/pi.csv'):\n",
        "  ! git clone https://github.com/d0c0nn0r/Machine-Learning-For-Manufacturing\n",
        "! chmod ogu+rwx /content/Machine-Learning-For-Manufacturing/data/*.*"
      ]
    },
    {
      "cell_type": "markdown",
      "source": [],
      "metadata": {
        "id": "6vcas7kca-CX"
      }
    },
    {
      "cell_type": "markdown",
      "source": [],
      "metadata": {
        "id": "EUKr65x3czH1"
      }
    },
    {
      "cell_type": "markdown",
      "source": [
        "# **Introduction**\n",
        "\n",
        "Setup is down, to import the dependency libraries and data sets into the notebook.\n",
        "\n",
        "Pandas is used to handle importing CSV data sets.\n",
        "Plotly is used for all graphing and outputs.\n",
        "Stumpy is used to all Time-series related mathematical calculations, profiling and analysis. \n",
        "\n",
        "## **Load data**\n",
        "\n",
        "Our predefined data sets are hosted in 3 csv files.\n",
        "* o.csv: OPC Data for a specific piece of I/O\n",
        "* pc.csv: Compressed data (i.e. archived values) for the corresponding PI Tag of the OPC Data captured in the previous file.\n",
        "* pi.csv: Interpolated data for the corresponding PI tag of the OPC Data, measured at 1-second intervals.\n",
        "\n",
        "The timestamp field is defined and consolidated across all datasets. Selecting and aligning the OPC and PI Data timestamps is important, as it will be required later."
      ],
      "metadata": {
        "id": "ifQmc0NCFfkO"
      }
    },
    {
      "cell_type": "code",
      "source": [
        "import pandas as pd\n",
        "import stumpy\n",
        "\n",
        "import plotly\n",
        "import plotly.graph_objects as go\n",
        "from plotly.graph_objs import Scatter, Layout\n",
        "from plotly.subplots import make_subplots\n",
        "\n",
        "layout = Layout(\n",
        "    paper_bgcolor='rgba(0,0,0,0)',\n",
        "    plot_bgcolor='rgba(0,0,0,0)',\n",
        "    font_family=\"Courier New\",\n",
        "    font_size=12,\n",
        "    font_color=\"#a5b1cd\",\n",
        "    title_font_family=\"Courier New\",\n",
        "    title_font_color=\"black\",\n",
        "    title_font_size=12,\n",
        "    uirevision=True,\n",
        "    autosize=True\n",
        ")\n",
        "\n",
        "o=pd.read_csv('/content/Machine-Learning-For-Manufacturing/Data/o.csv')\n",
        "pc=pd.read_csv('/content/Machine-Learning-For-Manufacturing/Data/pc.csv')\n",
        "pi=pd.read_csv('/content/Machine-Learning-For-Manufacturing/Data/pi.csv')\n",
        "\n",
        "# 13:00 is local time!\n",
        "o['TimeStamp']=pd.to_datetime(o['TimeStamp'].values)\n",
        "#pc.head()\n",
        "pc['TimeStamp']=pd.to_datetime(pc['LocalDateTime'].values)\n",
        "pi['TimeStamp']=pd.to_datetime(pi['TimeStamp'].values)\n",
        "\n",
        "#Filter out non-numeric rows\n",
        "pi = pi[pd.to_numeric(pi.Value, errors='coerce').notnull()]\n",
        "#convert value column to float type\n",
        "pi = pi.astype({'Value':'float64'})\n",
        "\n",
        "pi.head()"
      ],
      "metadata": {
        "id": "LxVDXYPVkHbT",
        "colab": {
          "base_uri": "https://localhost:8080/",
          "height": 536
        },
        "outputId": "1674deac-3a0a-48e2-f61b-4f4f0ad433e1"
      },
      "execution_count": null,
      "outputs": [
        {
          "output_type": "error",
          "ename": "KeyError",
          "evalue": "ignored",
          "traceback": [
            "\u001b[0;31m---------------------------------------------------------------------------\u001b[0m",
            "\u001b[0;31mKeyError\u001b[0m                                  Traceback (most recent call last)",
            "\u001b[0;32m/usr/local/lib/python3.7/dist-packages/pandas/core/indexes/base.py\u001b[0m in \u001b[0;36mget_loc\u001b[0;34m(self, key, method, tolerance)\u001b[0m\n\u001b[1;32m   3360\u001b[0m             \u001b[0;32mtry\u001b[0m\u001b[0;34m:\u001b[0m\u001b[0;34m\u001b[0m\u001b[0;34m\u001b[0m\u001b[0m\n\u001b[0;32m-> 3361\u001b[0;31m                 \u001b[0;32mreturn\u001b[0m \u001b[0mself\u001b[0m\u001b[0;34m.\u001b[0m\u001b[0m_engine\u001b[0m\u001b[0;34m.\u001b[0m\u001b[0mget_loc\u001b[0m\u001b[0;34m(\u001b[0m\u001b[0mcasted_key\u001b[0m\u001b[0;34m)\u001b[0m\u001b[0;34m\u001b[0m\u001b[0;34m\u001b[0m\u001b[0m\n\u001b[0m\u001b[1;32m   3362\u001b[0m             \u001b[0;32mexcept\u001b[0m \u001b[0mKeyError\u001b[0m \u001b[0;32mas\u001b[0m \u001b[0merr\u001b[0m\u001b[0;34m:\u001b[0m\u001b[0;34m\u001b[0m\u001b[0;34m\u001b[0m\u001b[0m\n",
            "\u001b[0;32m/usr/local/lib/python3.7/dist-packages/pandas/_libs/index.pyx\u001b[0m in \u001b[0;36mpandas._libs.index.IndexEngine.get_loc\u001b[0;34m()\u001b[0m\n",
            "\u001b[0;32m/usr/local/lib/python3.7/dist-packages/pandas/_libs/index.pyx\u001b[0m in \u001b[0;36mpandas._libs.index.IndexEngine.get_loc\u001b[0;34m()\u001b[0m\n",
            "\u001b[0;32mpandas/_libs/hashtable_class_helper.pxi\u001b[0m in \u001b[0;36mpandas._libs.hashtable.PyObjectHashTable.get_item\u001b[0;34m()\u001b[0m\n",
            "\u001b[0;32mpandas/_libs/hashtable_class_helper.pxi\u001b[0m in \u001b[0;36mpandas._libs.hashtable.PyObjectHashTable.get_item\u001b[0;34m()\u001b[0m\n",
            "\u001b[0;31mKeyError\u001b[0m: 'TimeStamp'",
            "\nThe above exception was the direct cause of the following exception:\n",
            "\u001b[0;31mKeyError\u001b[0m                                  Traceback (most recent call last)",
            "\u001b[0;32m<ipython-input-6-d681aa96e14a>\u001b[0m in \u001b[0;36m<module>\u001b[0;34m\u001b[0m\n\u001b[1;32m     28\u001b[0m \u001b[0;31m#pc.head()\u001b[0m\u001b[0;34m\u001b[0m\u001b[0;34m\u001b[0m\u001b[0;34m\u001b[0m\u001b[0m\n\u001b[1;32m     29\u001b[0m \u001b[0mpc\u001b[0m\u001b[0;34m[\u001b[0m\u001b[0;34m'TimeStamp'\u001b[0m\u001b[0;34m]\u001b[0m\u001b[0;34m=\u001b[0m\u001b[0mpd\u001b[0m\u001b[0;34m.\u001b[0m\u001b[0mto_datetime\u001b[0m\u001b[0;34m(\u001b[0m\u001b[0mpc\u001b[0m\u001b[0;34m[\u001b[0m\u001b[0;34m'LocalDateTime'\u001b[0m\u001b[0;34m]\u001b[0m\u001b[0;34m.\u001b[0m\u001b[0mvalues\u001b[0m\u001b[0;34m)\u001b[0m\u001b[0;34m\u001b[0m\u001b[0;34m\u001b[0m\u001b[0m\n\u001b[0;32m---> 30\u001b[0;31m \u001b[0mpi\u001b[0m\u001b[0;34m[\u001b[0m\u001b[0;34m'TimeStamp'\u001b[0m\u001b[0;34m]\u001b[0m\u001b[0;34m=\u001b[0m\u001b[0mpd\u001b[0m\u001b[0;34m.\u001b[0m\u001b[0mto_datetime\u001b[0m\u001b[0;34m(\u001b[0m\u001b[0mpi\u001b[0m\u001b[0;34m[\u001b[0m\u001b[0;34m'TimeStamp'\u001b[0m\u001b[0;34m]\u001b[0m\u001b[0;34m.\u001b[0m\u001b[0mvalues\u001b[0m\u001b[0;34m)\u001b[0m\u001b[0;34m\u001b[0m\u001b[0;34m\u001b[0m\u001b[0m\n\u001b[0m\u001b[1;32m     31\u001b[0m \u001b[0;34m\u001b[0m\u001b[0m\n\u001b[1;32m     32\u001b[0m \u001b[0;31m#Filter out non-numeric rows\u001b[0m\u001b[0;34m\u001b[0m\u001b[0;34m\u001b[0m\u001b[0;34m\u001b[0m\u001b[0m\n",
            "\u001b[0;32m/usr/local/lib/python3.7/dist-packages/pandas/core/frame.py\u001b[0m in \u001b[0;36m__getitem__\u001b[0;34m(self, key)\u001b[0m\n\u001b[1;32m   3456\u001b[0m             \u001b[0;32mif\u001b[0m \u001b[0mself\u001b[0m\u001b[0;34m.\u001b[0m\u001b[0mcolumns\u001b[0m\u001b[0;34m.\u001b[0m\u001b[0mnlevels\u001b[0m \u001b[0;34m>\u001b[0m \u001b[0;36m1\u001b[0m\u001b[0;34m:\u001b[0m\u001b[0;34m\u001b[0m\u001b[0;34m\u001b[0m\u001b[0m\n\u001b[1;32m   3457\u001b[0m                 \u001b[0;32mreturn\u001b[0m \u001b[0mself\u001b[0m\u001b[0;34m.\u001b[0m\u001b[0m_getitem_multilevel\u001b[0m\u001b[0;34m(\u001b[0m\u001b[0mkey\u001b[0m\u001b[0;34m)\u001b[0m\u001b[0;34m\u001b[0m\u001b[0;34m\u001b[0m\u001b[0m\n\u001b[0;32m-> 3458\u001b[0;31m             \u001b[0mindexer\u001b[0m \u001b[0;34m=\u001b[0m \u001b[0mself\u001b[0m\u001b[0;34m.\u001b[0m\u001b[0mcolumns\u001b[0m\u001b[0;34m.\u001b[0m\u001b[0mget_loc\u001b[0m\u001b[0;34m(\u001b[0m\u001b[0mkey\u001b[0m\u001b[0;34m)\u001b[0m\u001b[0;34m\u001b[0m\u001b[0;34m\u001b[0m\u001b[0m\n\u001b[0m\u001b[1;32m   3459\u001b[0m             \u001b[0;32mif\u001b[0m \u001b[0mis_integer\u001b[0m\u001b[0;34m(\u001b[0m\u001b[0mindexer\u001b[0m\u001b[0;34m)\u001b[0m\u001b[0;34m:\u001b[0m\u001b[0;34m\u001b[0m\u001b[0;34m\u001b[0m\u001b[0m\n\u001b[1;32m   3460\u001b[0m                 \u001b[0mindexer\u001b[0m \u001b[0;34m=\u001b[0m \u001b[0;34m[\u001b[0m\u001b[0mindexer\u001b[0m\u001b[0;34m]\u001b[0m\u001b[0;34m\u001b[0m\u001b[0;34m\u001b[0m\u001b[0m\n",
            "\u001b[0;32m/usr/local/lib/python3.7/dist-packages/pandas/core/indexes/base.py\u001b[0m in \u001b[0;36mget_loc\u001b[0;34m(self, key, method, tolerance)\u001b[0m\n\u001b[1;32m   3361\u001b[0m                 \u001b[0;32mreturn\u001b[0m \u001b[0mself\u001b[0m\u001b[0;34m.\u001b[0m\u001b[0m_engine\u001b[0m\u001b[0;34m.\u001b[0m\u001b[0mget_loc\u001b[0m\u001b[0;34m(\u001b[0m\u001b[0mcasted_key\u001b[0m\u001b[0;34m)\u001b[0m\u001b[0;34m\u001b[0m\u001b[0;34m\u001b[0m\u001b[0m\n\u001b[1;32m   3362\u001b[0m             \u001b[0;32mexcept\u001b[0m \u001b[0mKeyError\u001b[0m \u001b[0;32mas\u001b[0m \u001b[0merr\u001b[0m\u001b[0;34m:\u001b[0m\u001b[0;34m\u001b[0m\u001b[0;34m\u001b[0m\u001b[0m\n\u001b[0;32m-> 3363\u001b[0;31m                 \u001b[0;32mraise\u001b[0m \u001b[0mKeyError\u001b[0m\u001b[0;34m(\u001b[0m\u001b[0mkey\u001b[0m\u001b[0;34m)\u001b[0m \u001b[0;32mfrom\u001b[0m \u001b[0merr\u001b[0m\u001b[0;34m\u001b[0m\u001b[0;34m\u001b[0m\u001b[0m\n\u001b[0m\u001b[1;32m   3364\u001b[0m \u001b[0;34m\u001b[0m\u001b[0m\n\u001b[1;32m   3365\u001b[0m         \u001b[0;32mif\u001b[0m \u001b[0mis_scalar\u001b[0m\u001b[0;34m(\u001b[0m\u001b[0mkey\u001b[0m\u001b[0;34m)\u001b[0m \u001b[0;32mand\u001b[0m \u001b[0misna\u001b[0m\u001b[0;34m(\u001b[0m\u001b[0mkey\u001b[0m\u001b[0;34m)\u001b[0m \u001b[0;32mand\u001b[0m \u001b[0;32mnot\u001b[0m \u001b[0mself\u001b[0m\u001b[0;34m.\u001b[0m\u001b[0mhasnans\u001b[0m\u001b[0;34m:\u001b[0m\u001b[0;34m\u001b[0m\u001b[0;34m\u001b[0m\u001b[0m\n",
            "\u001b[0;31mKeyError\u001b[0m: 'TimeStamp'"
          ]
        }
      ]
    },
    {
      "cell_type": "markdown",
      "source": [
        "## **Resampling**\n",
        "\n",
        "Before analyzing the similarity of the OPC and PI data signals, some resampling is required because **<<<@ErnstHolger please explain>>>**\n",
        "\n",
        "## Analyzing Signal Similarity\n",
        "\n",
        "After resampling the data (**<<<@ErnstHolger please explain>>>**), the [MASS Distance Profile](https://stumpy.readthedocs.io/en/latest/api.html#mass) is calculated.\n",
        "This distance measure is computed by measuring the total OPC data signal, at every value-position in the PI Compressed Data. \n",
        "\n",
        "The distance profile is returned as an array of distance measures, at every position in the PI Compressed Data set. So, to find the \"best-fit\", we find the index-position of the minimum value, and that identifies the exact position then in the PI Compressed Data set, which is the most similar to the OPC Data. \n",
        "Knowing this starting point, we can then overlay the data, and also compare the latency in time between the data sets.\n"
      ],
      "metadata": {
        "id": "Q9QmRc3ZIBPW"
      }
    },
    {
      "cell_type": "code",
      "source": [
        "# need to resample\n",
        "# DOC: DON'T resample, use interpolated data set\n",
        "if o.index.name!='TimeStamp':\n",
        "  o.set_index('TimeStamp',inplace=True)\n",
        "  pc.set_index('TimeStamp',inplace=True)\n",
        "  pi.set_index('TimeStamp',inplace=True)\n",
        "\n",
        "#DOC don't resample\n",
        "#o=o.resample('1S').interpolate(method='linear')\n",
        "#pc=pc.resample('1S').interpolate(method='linear')\n",
        "\n",
        "# alignment using stumpy\n",
        "#DOC use PI dataset\n",
        "#distance_profile = stumpy.mass(o['Value'].values,pc['Value'].values,normalize=False)\n",
        "distance_profile = stumpy.mass(o['Value'].values,\n",
        "                               pi['Value'].values,\n",
        "                               normalize=False\n",
        "                               )\n",
        "index_min = min(range(len(distance_profile)), key=distance_profile.__getitem__)\n",
        "n=len(o['Value'].values)"
      ],
      "metadata": {
        "id": "FAa9MaONvYC6"
      },
      "execution_count": null,
      "outputs": []
    },
    {
      "cell_type": "markdown",
      "source": [
        "## **Visualizing Signal Similarity**\n",
        "\n",
        "Next, we want to create 3 graphs to illustrate our data.\n",
        "\n",
        "### **Graph #1: Original Data**\n",
        "\n",
        "We print 2 signals. \n",
        "* The \"pi comp.\" represents the Compressed Data from the PI Data Historian.\n",
        "* The \"opc\" represents the OPC Data received from the underlying device or PLC, through the OPC Server.\n",
        "\n",
        "### **Graph #2: Distance Profile**\n",
        "\n",
        "We print the distance profile, which measures the similarity of the signals over the entire time period.\n",
        "The closer to 0 the value is, the more similar the signals are at that point in time. i.e. 0=100% matching.\n",
        "This graph does not \"line-up\" perfectly with Graph #1.\n",
        "\n",
        "### **Graph #3: Time-Aligned Overlay**\n",
        "\n",
        "We print the re-aligned PI Compressed data and OPC Data sets.\n",
        "On this graph, the signals are overlayed on-top of each other, for the 'best-fit' time period. The best-fit time period is that which was measured by the Graph #2, Distance Profile."
      ],
      "metadata": {
        "id": "gqvIEqOyD3pB"
      }
    },
    {
      "cell_type": "code",
      "source": [
        "# raw, similarity, aligned\n",
        "fig = make_subplots(rows=3, cols=1, shared_xaxes=False)\n",
        "fig.update_layout(layout)\n",
        "\n",
        "fig.add_trace(go.Scatter(x=pi.index,y=pi['Value'], name='pi interpolated'), row=1, col=1)\n",
        "fig.add_trace(go.Scatter(x=o.index,y=o['Value'], name='opc'),row=1, col=1)\n",
        "\n",
        "fig.add_trace(go.Scatter(y=distance_profile, name='distance_profile'),row=2, col=1)\n",
        "\n",
        "fig.add_trace(go.Scatter(y=o['Value'].values, name='opc-aligned'),row=3, col=1)\n",
        "fig.add_trace(go.Scatter(y=pi['Value'].values[index_min:index_min+n], name='pi int.-aligned'),row=3, col=1)\n",
        "fig.show()"
      ],
      "metadata": {
        "id": "av8R6_DwmI9E"
      },
      "execution_count": null,
      "outputs": []
    },
    {
      "cell_type": "markdown",
      "source": [
        "## **Final Results**\n",
        "\n",
        "We print out some statistical results from the data set analysis.\n",
        "\n",
        "### **Max Error**\n",
        "\n",
        "{Description needed}\n",
        "\n",
        "### **Explained Variance Score**\n",
        "\n",
        "{Description needed}\n",
        "\n",
        "### **Mean Absolute Error**\n",
        "\n",
        "{Description needed}\n",
        "\n",
        "### **Mean Squared Error**\n",
        "\n",
        "{Description needed}\n",
        "\n",
        "### **Median Absolute Error**\n",
        "\n",
        "{Description needed}\n"
      ],
      "metadata": {
        "id": "cfhjcAUtXMGv"
      }
    },
    {
      "cell_type": "code",
      "source": [
        "# some metrics\n",
        "from sklearn.metrics import *\n",
        "\n",
        "y_true=o['Value'].values\n",
        "y_pred=pi['Value'].values[index_min:index_min+n]\n",
        "first_opc_ts=o.iloc[0].name\n",
        "matched_pic_ts=pi.iloc[index_min].name\n",
        "\n",
        "print('max_error: ',max_error(y_true, y_pred))\n",
        "print('explained_variance_score: ',explained_variance_score(y_true, y_pred))\n",
        "print('mean_absolute_error: ',mean_absolute_error(y_true, y_pred))\n",
        "print('mean_squared_error: ',mean_squared_error(y_true, y_pred))\n",
        "print('median_absolute_error ',median_absolute_error(y_true, y_pred))\n",
        "print('OPC Signal Start Time: ', first_opc_ts.strftime(\"%d-%b-%y %H:%M:%S.%f\"))\n",
        "print('PI Signal Start Time: ', matched_pic_ts.strftime(\"%d-%b-%y %H:%M:%S.%f\"))"
      ],
      "metadata": {
        "id": "ls_6TzQXCi2w"
      },
      "execution_count": null,
      "outputs": []
    }
  ]
}
