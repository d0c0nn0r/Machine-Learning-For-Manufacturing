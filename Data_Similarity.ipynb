{
  "cells": [
    {
      "cell_type": "code",
      "execution_count": 1,
      "metadata": {
        "id": "px7lwBfmthJZ"
      },
      "outputs": [
        {
          "name": "stdout",
          "output_type": "stream",
          "text": [
            "^C\n"
          ]
        }
      ],
      "source": [
        "! pip install -q stumpy"
      ]
    },
    {
      "cell_type": "code",
      "execution_count": null,
      "metadata": {
        "colab": {
          "base_uri": "https://localhost:8080/"
        },
        "id": "Y_pHP-XCjgPd",
        "outputId": "fc787bf7-dea3-4976-86e9-d5c98cc9db93"
      },
      "outputs": [
        {
          "name": "stdout",
          "output_type": "stream",
          "text": [
            "chmod: cannot access '/content/Machine-Learning-For-Manufacturing/data/*.*': No such file or directory\n"
          ]
        }
      ],
      "source": [
        "from IPython.display import Image,display\n",
        "from ipywidgets import interact, interactive, fixed, interact_manual\n",
        "import ipywidgets as widgets\n",
        "from time import sleep\n",
        "from os.path import exists\n",
        "from datetime import datetime\n",
        "\n",
        "if not exists('/content/Machine-Learning-For-Manufacturing/Data/o.csv') or not exists('/content/Machine-Learning-For-Manufacturing/Data/pi.csv'):\n",
        "  ! git clone https://github.com/d0c0nn0r/Machine-Learning-For-Manufacturing\n",
        "! chmod ogu+rwx /content/Machine-Learning-For-Manufacturing/data/*.*"
      ]
    },
    {
      "cell_type": "markdown",
      "metadata": {
        "id": "ifQmc0NCFfkO"
      },
      "source": [
        "# **Introduction**\n",
        "\n",
        "Setup is down, to import the dependency libraries and data sets into the notebook.\n",
        "\n",
        "Pandas is used to handle importing CSV data sets.\n",
        "Plotly is used for all graphing and outputs.\n",
        "Stumpy is used to all Time-series related mathematical calculations, profiling and analysis. \n",
        "\n",
        "## **Load data**\n",
        "\n",
        "Our predefined data sets are hosted in 3 csv files.\n",
        "* o.csv: OPC Data for a specific piece of I/O\n",
        "* pc.csv: Compressed data (i.e. archived values) for the corresponding PI Tag of the OPC Data captured in the previous file.\n",
        "* pi.csv: Interpolated data for the corresponding PI tag of the OPC Data, measured at 1-second intervals.\n",
        "\n",
        "The timestamp field is defined and consolidated across all datasets. Selecting and aligning the OPC and PI Data timestamps is important, as it will be required later."
      ]
    },
    {
      "cell_type": "code",
      "execution_count": null,
      "metadata": {
        "colab": {
          "base_uri": "https://localhost:8080/",
          "height": 206
        },
        "id": "LxVDXYPVkHbT",
        "outputId": "f68588e9-b5b2-48f6-cd5e-e54047cea8d8"
      },
      "outputs": [
        {
          "data": {
            "text/html": [
              "\n",
              "  <div id=\"df-84b96e66-d708-45f4-af56-8fc5b43176f9\">\n",
              "    <div class=\"colab-df-container\">\n",
              "      <div>\n",
              "<style scoped>\n",
              "    .dataframe tbody tr th:only-of-type {\n",
              "        vertical-align: middle;\n",
              "    }\n",
              "\n",
              "    .dataframe tbody tr th {\n",
              "        vertical-align: top;\n",
              "    }\n",
              "\n",
              "    .dataframe thead th {\n",
              "        text-align: right;\n",
              "    }\n",
              "</style>\n",
              "<table border=\"1\" class=\"dataframe\">\n",
              "  <thead>\n",
              "    <tr style=\"text-align: right;\">\n",
              "      <th></th>\n",
              "      <th>TimeStamp</th>\n",
              "      <th>Value</th>\n",
              "    </tr>\n",
              "  </thead>\n",
              "  <tbody>\n",
              "    <tr>\n",
              "      <th>0</th>\n",
              "      <td>2022-09-01 13:00:00</td>\n",
              "      <td>53.892250</td>\n",
              "    </tr>\n",
              "    <tr>\n",
              "      <th>1</th>\n",
              "      <td>2022-09-01 13:00:01</td>\n",
              "      <td>53.898750</td>\n",
              "    </tr>\n",
              "    <tr>\n",
              "      <th>2</th>\n",
              "      <td>2022-09-01 13:00:02</td>\n",
              "      <td>53.982708</td>\n",
              "    </tr>\n",
              "    <tr>\n",
              "      <th>3</th>\n",
              "      <td>2022-09-01 13:00:03</td>\n",
              "      <td>54.066666</td>\n",
              "    </tr>\n",
              "    <tr>\n",
              "      <th>4</th>\n",
              "      <td>2022-09-01 13:00:04</td>\n",
              "      <td>54.150623</td>\n",
              "    </tr>\n",
              "  </tbody>\n",
              "</table>\n",
              "</div>\n",
              "      <button class=\"colab-df-convert\" onclick=\"convertToInteractive('df-84b96e66-d708-45f4-af56-8fc5b43176f9')\"\n",
              "              title=\"Convert this dataframe to an interactive table.\"\n",
              "              style=\"display:none;\">\n",
              "        \n",
              "  <svg xmlns=\"http://www.w3.org/2000/svg\" height=\"24px\"viewBox=\"0 0 24 24\"\n",
              "       width=\"24px\">\n",
              "    <path d=\"M0 0h24v24H0V0z\" fill=\"none\"/>\n",
              "    <path d=\"M18.56 5.44l.94 2.06.94-2.06 2.06-.94-2.06-.94-.94-2.06-.94 2.06-2.06.94zm-11 1L8.5 8.5l.94-2.06 2.06-.94-2.06-.94L8.5 2.5l-.94 2.06-2.06.94zm10 10l.94 2.06.94-2.06 2.06-.94-2.06-.94-.94-2.06-.94 2.06-2.06.94z\"/><path d=\"M17.41 7.96l-1.37-1.37c-.4-.4-.92-.59-1.43-.59-.52 0-1.04.2-1.43.59L10.3 9.45l-7.72 7.72c-.78.78-.78 2.05 0 2.83L4 21.41c.39.39.9.59 1.41.59.51 0 1.02-.2 1.41-.59l7.78-7.78 2.81-2.81c.8-.78.8-2.07 0-2.86zM5.41 20L4 18.59l7.72-7.72 1.47 1.35L5.41 20z\"/>\n",
              "  </svg>\n",
              "      </button>\n",
              "      \n",
              "  <style>\n",
              "    .colab-df-container {\n",
              "      display:flex;\n",
              "      flex-wrap:wrap;\n",
              "      gap: 12px;\n",
              "    }\n",
              "\n",
              "    .colab-df-convert {\n",
              "      background-color: #E8F0FE;\n",
              "      border: none;\n",
              "      border-radius: 50%;\n",
              "      cursor: pointer;\n",
              "      display: none;\n",
              "      fill: #1967D2;\n",
              "      height: 32px;\n",
              "      padding: 0 0 0 0;\n",
              "      width: 32px;\n",
              "    }\n",
              "\n",
              "    .colab-df-convert:hover {\n",
              "      background-color: #E2EBFA;\n",
              "      box-shadow: 0px 1px 2px rgba(60, 64, 67, 0.3), 0px 1px 3px 1px rgba(60, 64, 67, 0.15);\n",
              "      fill: #174EA6;\n",
              "    }\n",
              "\n",
              "    [theme=dark] .colab-df-convert {\n",
              "      background-color: #3B4455;\n",
              "      fill: #D2E3FC;\n",
              "    }\n",
              "\n",
              "    [theme=dark] .colab-df-convert:hover {\n",
              "      background-color: #434B5C;\n",
              "      box-shadow: 0px 1px 3px 1px rgba(0, 0, 0, 0.15);\n",
              "      filter: drop-shadow(0px 1px 2px rgba(0, 0, 0, 0.3));\n",
              "      fill: #FFFFFF;\n",
              "    }\n",
              "  </style>\n",
              "\n",
              "      <script>\n",
              "        const buttonEl =\n",
              "          document.querySelector('#df-84b96e66-d708-45f4-af56-8fc5b43176f9 button.colab-df-convert');\n",
              "        buttonEl.style.display =\n",
              "          google.colab.kernel.accessAllowed ? 'block' : 'none';\n",
              "\n",
              "        async function convertToInteractive(key) {\n",
              "          const element = document.querySelector('#df-84b96e66-d708-45f4-af56-8fc5b43176f9');\n",
              "          const dataTable =\n",
              "            await google.colab.kernel.invokeFunction('convertToInteractive',\n",
              "                                                     [key], {});\n",
              "          if (!dataTable) return;\n",
              "\n",
              "          const docLinkHtml = 'Like what you see? Visit the ' +\n",
              "            '<a target=\"_blank\" href=https://colab.research.google.com/notebooks/data_table.ipynb>data table notebook</a>'\n",
              "            + ' to learn more about interactive tables.';\n",
              "          element.innerHTML = '';\n",
              "          dataTable['output_type'] = 'display_data';\n",
              "          await google.colab.output.renderOutput(dataTable, element);\n",
              "          const docLink = document.createElement('div');\n",
              "          docLink.innerHTML = docLinkHtml;\n",
              "          element.appendChild(docLink);\n",
              "        }\n",
              "      </script>\n",
              "    </div>\n",
              "  </div>\n",
              "  "
            ],
            "text/plain": [
              "            TimeStamp      Value\n",
              "0 2022-09-01 13:00:00  53.892250\n",
              "1 2022-09-01 13:00:01  53.898750\n",
              "2 2022-09-01 13:00:02  53.982708\n",
              "3 2022-09-01 13:00:03  54.066666\n",
              "4 2022-09-01 13:00:04  54.150623"
            ]
          },
          "execution_count": 9,
          "metadata": {},
          "output_type": "execute_result"
        }
      ],
      "source": [
        "import pandas as pd\n",
        "import stumpy\n",
        "\n",
        "import plotly\n",
        "import plotly.graph_objects as go\n",
        "from plotly.graph_objs import Scatter, Layout\n",
        "from plotly.subplots import make_subplots\n",
        "\n",
        "layout = Layout(\n",
        "    paper_bgcolor='rgba(0,0,0,0)',\n",
        "    plot_bgcolor='rgba(0,0,0,0)',\n",
        "    font_family=\"Courier New\",\n",
        "    font_size=12,\n",
        "    font_color=\"#a5b1cd\",\n",
        "    title_font_family=\"Courier New\",\n",
        "    title_font_color=\"black\",\n",
        "    title_font_size=12,\n",
        "    uirevision=True,\n",
        "    autosize=True\n",
        ")\n",
        "\n",
        "o=pd.read_csv('/content/Machine-Learning-For-Manufacturing/Data/o.csv')\n",
        "pc=pd.read_csv('/content/Machine-Learning-For-Manufacturing/Data/pc.csv')\n",
        "pi=pd.read_csv('/content/Machine-Learning-For-Manufacturing/Data/pi.csv')\n",
        "\n",
        "# 13:00 is local time!\n",
        "o['TimeStamp']=pd.to_datetime(o['TimeStamp'].values)\n",
        "#pc.head()\n",
        "pc['TimeStamp']=pd.to_datetime(pc['LocalDateTime'].values)\n",
        "pi['TimeStamp']=pd.to_datetime(pi['TimeStamp'].values)\n",
        "\n",
        "#Filter out non-numeric rows\n",
        "pi = pi[pd.to_numeric(pi.Value, errors='coerce').notnull()]\n",
        "#convert value column to float type\n",
        "pi = pi.astype({'Value':'float64'})\n",
        "\n",
        "pi.head()"
      ]
    },
    {
      "cell_type": "markdown",
      "metadata": {
        "id": "Q9QmRc3ZIBPW"
      },
      "source": [
        "## **Analyzing Signal Similarity**\n",
        "\n",
        "After loading the data, the [MASS Distance Profile](https://stumpy.readthedocs.io/en/latest/api.html#mass) is calculated.\n",
        "This distance measure is computed by measuring the euclidean distance between the OPC data signal, at the Interpolated PI Data. \n",
        "\n",
        "The distance profile is returned as an array of distance measures, at every position in the Dataset arrays (i.e. OPC data and PI data). \n",
        "\n",
        "To account for possible 'client-time-drift' between the OSI-PI Interface capturing values into PI Data Historian, and the OPC Client used to capture our data set, we use this distance profile to find the \"best-fit\" for overlaying the signals on top of each other.\n",
        "\n",
        "Once the \"best-fit\" signal overlay has been found, we now know the exact starting index (i.e. timestamp) where overlaying the Interpolated PI Data and OPC data matches best. \n",
        "This interesting also allows us to measure the 'clock-drift' between our OPC Client and the PI Interface as they acquire/read/poll/advise data from a source.\n"
      ]
    },
    {
      "cell_type": "code",
      "execution_count": null,
      "metadata": {
        "id": "FAa9MaONvYC6"
      },
      "outputs": [],
      "source": [
        "# need to resample\n",
        "# DOC: DON'T resample, use interpolated data set\n",
        "if o.index.name!='TimeStamp':\n",
        "  o.set_index('TimeStamp',inplace=True)\n",
        "  pc.set_index('TimeStamp',inplace=True)\n",
        "  pi.set_index('TimeStamp',inplace=True)\n",
        "\n",
        "# Resample OPC Data, as we expect a value at every single second\n",
        "# In can occur than data does not occur every second, so\n",
        "# we re-sample\n",
        "o=o.resample('1S').interpolate(method='linear')\n",
        "\n",
        "# Resample also for COMPRESSED data, to get a\n",
        "# panda's \"interpolated\" value at every 1 second\n",
        "pc=pc.resample('1S').interpolate(method='linear')\n",
        "\n",
        "# alignment using stumpy\n",
        "# DISTANCE using PI INTERPOLATED VALUES\n",
        "distance_profile = stumpy.mass(o['Value'].values,\n",
        "                               pi['Value'].values,\n",
        "                               normalize=False\n",
        "                               )\n",
        "index_min = min(range(len(distance_profile)), key=distance_profile.__getitem__)\n",
        "\n",
        "#DISTANCE using PANDAS INTERPOLATED VALUES\n",
        "distance_profile2 = stumpy.mass(o['Value'].values,\n",
        "                               pc['Value'].values,\n",
        "                               normalize=False\n",
        "                               )\n",
        "index_min2 = min(range(len(distance_profile2)), key=distance_profile2.__getitem__)\n",
        "\n",
        "n=len(o['Value'].values)"
      ]
    },
    {
      "cell_type": "markdown",
      "metadata": {
        "id": "gqvIEqOyD3pB"
      },
      "source": [
        "## **Visualizing Signal Similarity: Using Interpolated Data**\n",
        "\n",
        "Next, we want to create 3 graphs to illustrate our data.\n",
        "\n",
        "### **Graph #1: Original Data**\n",
        "\n",
        "We print 2 signals. \n",
        "* The \"pi interpolated\" represents the Interpolated Data from the PI Data Historian.\n",
        "* The \"opc\" represents the OPC Data received from the underlying device or PLC, through the OPC Server.\n",
        "\n",
        "### **Graph #2: Distance Profile**\n",
        "\n",
        "We print the distance profile, which measures the similarity of the signals over the entire time period.\n",
        "The closer to 0 the value is, the more similar the signals are at that point in time. i.e. 0=100% matching.\n",
        "This graph does not \"line-up\" perfectly with Graph #1.\n",
        "\n",
        "### **Graph #3: Time-Aligned Overlay**\n",
        "\n",
        "We print the re-aligned PI Interpolated data and OPC Data sets.\n",
        "On this graph, the signals are overlayed on-top of each other, for the 'best-fit' time period. The best-fit time period is that which was measured by the Graph #2, Distance Profile.\n",
        "\n",
        "## **Statistics**\n",
        "\n",
        "### Max Error\n",
        "\n",
        "Max error computes the maximum residual error between 2 data sets: the PI Interpolated data set, and the OPC data set.\n",
        "The value returned is the maximum difference between 2 corresponding values at the same index in the data sets.\n",
        "For more detail, see (sklean.metrics documentation)[https://scikit-learn.org/stable/modules/model_evaluation.html#max-error]\n",
        "\n",
        "### Explained Variance Score\n",
        "\n",
        "The explained variance is used to measure the proportion of the variability of the 2 data sets.\n",
        "The closer this value is to 100%, to more accurate the 2 data sets are.\n",
        "For more detail, see (sklean.metrics documentation)[https://scikit-learn.org/stable/modules/model_evaluation.html#explained-variance-score]\n",
        "\n",
        "### Mean Absolute Error\n",
        "\n",
        "This refers to the magnitude of difference between the prediction of an observation and the true value of that observation. MAE takes the average of absolute errors for a group of predictions and observations as a measurement of the magnitude of errors for the entire group. MAE can also be referred as L1 loss function.\n",
        "\n",
        "For more detail, see (sklean.metrics documentation)[https://scikit-learn.org/stable/modules/model_evaluation.html#mean-absolute-error]\n",
        "\n",
        "### Mean Squared Error\n",
        "\n",
        "The Mean Squared Error measures how close a regression line is to a set of data points. It is a risk function corresponding to the expected value of the squared error loss. A larger MSE indicates that the data points are dispersed widely around its central moment (mean), whereas a smaller MSE suggests the opposite. A smaller MSE is preferred because it indicates that your data points are dispersed closely around its central moment (mean).\n",
        "For more detail, see (sklean.metrics documentation)[https://scikit-learn.org/stable/modules/model_evaluation.html#mean-squared-error]\n",
        "\n",
        "### Median Absolute Error\n",
        "\n",
        "The median_absolute_error is particularly interesting because it is robust to outliers. The loss is calculated by taking the median of all absolute differences between the target and the prediction.\n",
        "\n",
        "For more detail, see (sklean.metrics documentation)[https://scikit-learn.org/stable/modules/model_evaluation.html#median-absolute-error]"
      ]
    },
    {
      "cell_type": "code",
      "execution_count": null,
      "metadata": {
        "colab": {
          "base_uri": "https://localhost:8080/",
          "height": 542
        },
        "id": "av8R6_DwmI9E",
        "outputId": "3f77e48d-20cb-445d-fd8d-caba004b9f20"
      },
      "outputs": [],
      "source": [
        "# raw, similarity, aligned\n",
        "fig = make_subplots(rows=3, cols=1, shared_xaxes=False)\n",
        "fig.update_layout(layout)\n",
        "\n",
        "fig.add_trace(go.Scatter(x=pi.index,y=pi['Value'], name='pi interpolated'), row=1, col=1)\n",
        "fig.add_trace(go.Scatter(x=o.index,y=o['Value'], name='opc'),row=1, col=1)\n",
        "\n",
        "fig.add_trace(go.Scatter(y=distance_profile, name='distance_profile'),row=2, col=1)\n",
        "\n",
        "fig.add_trace(go.Scatter(y=o['Value'].values, name='opc-aligned'),row=3, col=1)\n",
        "fig.add_trace(go.Scatter(y=pi['Value'].values[index_min:index_min+n], name='pi int.-aligned'),row=3, col=1)\n",
        "fig.show()\n",
        "\n",
        "# some metrics\n",
        "from sklearn.metrics import *\n",
        "\n",
        "y_true=o['Value'].values\n",
        "y_pred=pi['Value'].values[index_min:index_min+n]\n",
        "first_opc_ts=o.iloc[0].name\n",
        "matched_pic_ts=pi.iloc[index_min].name\n",
        "\n",
        "print('max_error: ',max_error(y_true, y_pred))\n",
        "print('explained_variance_score: {:.3%}'.format(explained_variance_score(y_true, y_pred) * 100))\n",
        "print('mean_absolute_error: ',mean_absolute_error(y_true, y_pred))\n",
        "print('mean_squared_error: ',mean_squared_error(y_true, y_pred))\n",
        "print('median_absolute_error ',median_absolute_error(y_true, y_pred))\n",
        "print('OPC Signal Start Time: ', first_opc_ts.strftime(\"%d-%b-%y %H:%M:%S.%f\"))\n",
        "print('PI Signal Start Time: ', matched_pic_ts.strftime(\"%d-%b-%y %H:%M:%S.%f\"))"
      ]
    }
  ],
  "metadata": {
    "colab": {
      "collapsed_sections": [],
      "history_visible": true,
      "provenance": []
    },
    "kernelspec": {
      "display_name": "Python 3.9.9 64-bit (windows store)",
      "language": "python",
      "name": "python3"
    },
    "language_info": {
      "codemirror_mode": {
        "name": "ipython",
        "version": 3
      },
      "file_extension": ".py",
      "mimetype": "text/x-python",
      "name": "python",
      "nbconvert_exporter": "python",
      "pygments_lexer": "ipython3",
      "version": "3.9.13"
    },
    "vscode": {
      "interpreter": {
        "hash": "1c6b4543b58d7fccc206099aca52a23523521d459cbe486d12738393ec9f990e"
      }
    }
  },
  "nbformat": 4,
  "nbformat_minor": 0
}
